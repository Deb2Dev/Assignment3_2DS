{
 "cells": [
  {
   "cell_type": "code",
   "execution_count": 27,
   "id": "bb8eab4d-0459-40be-9197-1f0392647b95",
   "metadata": {},
   "outputs": [
    {
     "name": "stdout",
     "output_type": "stream",
     "text": [
      "[('Virat Kohli', 24936), ('Jack Kallis', 25534), ('Ricky Ponting', 27483), ('Sachin Tendulkar', 34357)]\n"
     ]
    }
   ],
   "source": [
    "#1. A:-\n",
    "list_given = [('Sachin Tendulkar', 34357), ('Ricky Ponting', 27483), ('Jack Kallis', 25534), ('Virat Kohli', 24936)]\n",
    "list_given.sort(key = lambda x: x[1])\n",
    "print(list_given)"
   ]
  },
  {
   "cell_type": "code",
   "execution_count": 12,
   "id": "afe6395b-8981-4483-ad96-cacbdc280846",
   "metadata": {},
   "outputs": [
    {
     "data": {
      "text/plain": [
       "[1, 4, 9, 16, 25, 36, 49, 64, 81, 100]"
      ]
     },
     "execution_count": 12,
     "metadata": {},
     "output_type": "execute_result"
    }
   ],
   "source": [
    "#2. A:-\n",
    "l = [1, 2, 3, 4, 5, 6, 7, 8, 9, 10]\n",
    "list(map(lambda i : i**2, l))"
   ]
  },
  {
   "cell_type": "code",
   "execution_count": 15,
   "id": "65fffcb7-91ce-4308-9563-a7d458594eb7",
   "metadata": {},
   "outputs": [
    {
     "data": {
      "text/plain": [
       "['1', '2', '3', '4', '5', '6', '7', '8', '9', '10']"
      ]
     },
     "execution_count": 15,
     "metadata": {},
     "output_type": "execute_result"
    }
   ],
   "source": [
    "#3. A:-\n",
    "l=[1, 2, 3, 4, 5, 6, 7, 8, 9, 10]\n",
    "list(map(lambda i : str(i),l))"
   ]
  },
  {
   "cell_type": "code",
   "execution_count": 17,
   "id": "c7c1343e-dbbb-402d-95b7-93b8d838b814",
   "metadata": {},
   "outputs": [
    {
     "name": "stdout",
     "output_type": "stream",
     "text": [
      "[1, 2, 3, 4, 5, 6, 7, 8, 9, 10, 11, 12, 13, 14, 15, 16, 17, 18, 19, 20, 21, 22, 23, 24, 25]\n"
     ]
    },
    {
     "data": {
      "text/plain": [
       "15511210043330985984000000"
      ]
     },
     "execution_count": 17,
     "metadata": {},
     "output_type": "execute_result"
    }
   ],
   "source": [
    "#4. A:-\n",
    "l = []\n",
    "for i in range(1,26) :\n",
    "    l.append(i)\n",
    "print(l)\n",
    "\n",
    "from functools import reduce\n",
    "\n",
    "reduce(lambda x,y : x*y,l)"
   ]
  },
  {
   "cell_type": "code",
   "execution_count": 22,
   "id": "1a3530ee-8407-4512-947b-5be5cb9aaff0",
   "metadata": {},
   "outputs": [
    {
     "data": {
      "text/plain": [
       "[6, 60, 90, 120]"
      ]
     },
     "execution_count": 22,
     "metadata": {},
     "output_type": "execute_result"
    }
   ],
   "source": [
    "#5. A:-\n",
    "l = [2, 3, 6, 9, 27, 60, 90, 120, 55, 46]\n",
    "list(filter(lambda i : i%2 == 0 and i%3 == 0,l))"
   ]
  },
  {
   "cell_type": "code",
   "execution_count": 24,
   "id": "770cbfb6-c3e3-4008-a78d-b6972deca5e8",
   "metadata": {},
   "outputs": [
    {
     "data": {
      "text/plain": [
       "['php', 'aba', 'radar', 'level']"
      ]
     },
     "execution_count": 24,
     "metadata": {},
     "output_type": "execute_result"
    }
   ],
   "source": [
    "#6. A:-\n",
    "l = ['python', 'php', 'aba', 'radar', 'level']\n",
    "list(filter(lambda i : (i == \"\".join(reversed(i))),l))"
   ]
  },
  {
   "cell_type": "code",
   "execution_count": null,
   "id": "a0c34357-85b9-4493-b633-7afcafc5f904",
   "metadata": {},
   "outputs": [],
   "source": []
  }
 ],
 "metadata": {
  "kernelspec": {
   "display_name": "Python 3 (ipykernel)",
   "language": "python",
   "name": "python3"
  },
  "language_info": {
   "codemirror_mode": {
    "name": "ipython",
    "version": 3
   },
   "file_extension": ".py",
   "mimetype": "text/x-python",
   "name": "python",
   "nbconvert_exporter": "python",
   "pygments_lexer": "ipython3",
   "version": "3.10.8"
  }
 },
 "nbformat": 4,
 "nbformat_minor": 5
}
